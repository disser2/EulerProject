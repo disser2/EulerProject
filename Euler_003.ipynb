{
 "cells": [
  {
   "cell_type": "code",
   "execution_count": 2,
   "metadata": {
    "ExecuteTime": {
     "end_time": "2021-09-17T13:46:31.341910Z",
     "start_time": "2021-09-17T13:46:31.225242Z"
    }
   },
   "outputs": [],
   "source": [
    "import numpy as np"
   ]
  },
  {
   "cell_type": "code",
   "execution_count": 37,
   "metadata": {
    "ExecuteTime": {
     "end_time": "2021-09-17T14:08:57.011767Z",
     "start_time": "2021-09-17T14:08:57.005765Z"
    }
   },
   "outputs": [
    {
     "name": "stdout",
     "output_type": "stream",
     "text": [
      "Teiler: 71, Neue Zahl: 8462696833\n",
      "Teiler: 839, Neue Zahl: 10086647\n",
      "Teiler: 1471, Neue Zahl: 6857\n",
      "END\n"
     ]
    }
   ],
   "source": [
    "a = 600851475143\n",
    "l = 3\n",
    "u = int(np.sqrt(a) + 1)\n",
    "\n",
    "found = False\n",
    "\n",
    "while a > 1:\n",
    "    found = False\n",
    "    for k in range(l, u + 1, 2):\n",
    "\n",
    "        if a % k == 0:\n",
    "            a = int(a/k)\n",
    "            u = int(np.sqrt(a) + 1)\n",
    "            print(f\"Teiler: {k}, Neue Zahl: {a}\")\n",
    "            found = True\n",
    "            break\n",
    "    \n",
    "    if found == False:\n",
    "        print(\"END\")\n",
    "        break"
   ]
  },
  {
   "cell_type": "code",
   "execution_count": null,
   "metadata": {},
   "outputs": [],
   "source": []
  }
 ],
 "metadata": {
  "kernelspec": {
   "display_name": "Python 3",
   "language": "python",
   "name": "python3"
  },
  "language_info": {
   "codemirror_mode": {
    "name": "ipython",
    "version": 3
   },
   "file_extension": ".py",
   "mimetype": "text/x-python",
   "name": "python",
   "nbconvert_exporter": "python",
   "pygments_lexer": "ipython3",
   "version": "3.6.5"
  },
  "toc": {
   "base_numbering": 1,
   "nav_menu": {},
   "number_sections": true,
   "sideBar": true,
   "skip_h1_title": false,
   "title_cell": "Table of Contents",
   "title_sidebar": "Contents",
   "toc_cell": false,
   "toc_position": {},
   "toc_section_display": true,
   "toc_window_display": true
  }
 },
 "nbformat": 4,
 "nbformat_minor": 2
}
