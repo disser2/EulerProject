{
 "cells": [
  {
   "cell_type": "code",
   "execution_count": 9,
   "metadata": {
    "ExecuteTime": {
     "end_time": "2021-09-16T14:07:47.197997Z",
     "start_time": "2021-09-16T14:07:47.168564Z"
    }
   },
   "outputs": [],
   "source": [
    "# Data related libraries\n",
    "import numpy as np\n",
    "import pandas as pd\n",
    "\n",
    "# Plotting\n",
    "import matplotlib.pyplot as plt\n",
    "from ipywidgets import interact, fixed\n",
    "from IPython.display import display, HTML\n",
    "\n",
    "# Convenient helpers\n",
    "from copy import copy\n",
    "from time import time\n",
    "from collections import defaultdict, Counter\n",
    "from sklearn.preprocessing import minmax_scale\n",
    "import datetime\n",
    "\n",
    "# Printing libraries and settings\n",
    "# import warnings; warnings.filterwarnings('ignore')\n",
    "pd.set_option('display.max_columns', 500)\n",
    "pd.set_option('display.float_format','{0:.2f}'.format)\n",
    "\n",
    "%matplotlib inline"
   ]
  },
  {
   "cell_type": "code",
   "execution_count": 30,
   "metadata": {
    "ExecuteTime": {
     "end_time": "2021-09-16T14:11:56.642815Z",
     "start_time": "2021-09-16T14:11:56.601957Z"
    }
   },
   "outputs": [
    {
     "name": "stdout",
     "output_type": "stream",
     "text": [
      "171\n"
     ]
    }
   ],
   "source": [
    "start = datetime.date(1901, 1, 1)\n",
    "end = datetime.date(2000, 12, 31)\n",
    "\n",
    "counter = 0\n",
    "while start <= end:\n",
    "    if (start.isoweekday() == 7) & (start.day == 1):\n",
    "        counter += 1\n",
    "    start = start + datetime.timedelta(days = 1)\n",
    "print(counter)"
   ]
  },
  {
   "cell_type": "code",
   "execution_count": null,
   "metadata": {},
   "outputs": [],
   "source": []
  }
 ],
 "metadata": {
  "kernelspec": {
   "display_name": "Python 3",
   "language": "python",
   "name": "python3"
  },
  "language_info": {
   "codemirror_mode": {
    "name": "ipython",
    "version": 3
   },
   "file_extension": ".py",
   "mimetype": "text/x-python",
   "name": "python",
   "nbconvert_exporter": "python",
   "pygments_lexer": "ipython3",
   "version": "3.6.5"
  },
  "toc": {
   "base_numbering": 1,
   "nav_menu": {},
   "number_sections": true,
   "sideBar": true,
   "skip_h1_title": false,
   "title_cell": "Table of Contents",
   "title_sidebar": "Contents",
   "toc_cell": false,
   "toc_position": {},
   "toc_section_display": true,
   "toc_window_display": true
  }
 },
 "nbformat": 4,
 "nbformat_minor": 2
}
