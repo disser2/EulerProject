{
 "cells": [
  {
   "cell_type": "code",
   "execution_count": 1,
   "metadata": {
    "ExecuteTime": {
     "end_time": "2021-09-17T13:20:47.305943Z",
     "start_time": "2021-09-17T13:20:43.354711Z"
    }
   },
   "outputs": [],
   "source": [
    "# Data related libraries\n",
    "import numpy as np\n",
    "import pandas as pd\n",
    "\n",
    "# Plotting\n",
    "import matplotlib.pyplot as plt\n",
    "from ipywidgets import interact, fixed\n",
    "from IPython.display import display, HTML\n",
    "import networkx as nx\n",
    "\n",
    "# Convenient helpers\n",
    "from copy import copy\n",
    "from time import time\n",
    "from collections import defaultdict, Counter\n",
    "from sklearn.preprocessing import minmax_scale\n",
    "\n",
    "# Printing libraries and settings\n",
    "# import warnings; warnings.filterwarnings('ignore')\n",
    "pd.set_option('display.max_columns', 500)\n",
    "pd.set_option('display.float_format','{0:.2f}'.format)\n",
    "\n",
    "%matplotlib inline"
   ]
  },
  {
   "cell_type": "code",
   "execution_count": 34,
   "metadata": {
    "ExecuteTime": {
     "end_time": "2021-09-17T13:26:27.076080Z",
     "start_time": "2021-09-17T13:26:27.023243Z"
    }
   },
   "outputs": [],
   "source": [
    "?pd.read_csv"
   ]
  },
  {
   "cell_type": "code",
   "execution_count": 35,
   "metadata": {
    "ExecuteTime": {
     "end_time": "2021-09-17T13:27:38.984057Z",
     "start_time": "2021-09-17T13:27:38.974055Z"
    }
   },
   "outputs": [],
   "source": [
    "# Read in data in csv format\n",
    "# Commented are some typical first preprocessing operations\n",
    "\n",
    "filename = \"p067_triangle.csv\"\n",
    "data = pd.read_csv(filename, delimiter=',', encoding='utf-8', header = None)\n",
    "\n",
    "numbers = [str(x[0]).split(\" \") for x in data.values.tolist()]"
   ]
  },
  {
   "cell_type": "code",
   "execution_count": 38,
   "metadata": {
    "ExecuteTime": {
     "end_time": "2021-09-17T13:27:49.199825Z",
     "start_time": "2021-09-17T13:27:49.110417Z"
    }
   },
   "outputs": [],
   "source": [
    "g = nx.DiGraph()\n",
    "line_count = 0\n",
    "g.add_node(\"final_node\")\n",
    "for line in numbers:\n",
    "    number_count = 0\n",
    "    \n",
    "    for number in line:\n",
    "        g.add_node(f\"{line_count}_{number_count}\")\n",
    "        \n",
    "        # Add edges after the first line\n",
    "        if line_count > 0:\n",
    "            \n",
    "            # Nicht ganz links\n",
    "            if number_count != 0:\n",
    "                g.add_edge(f\"{line_count - 1}_{number_count - 1}\", \n",
    "                           f\"{line_count}_{number_count}\", \n",
    "                           weight = (-1) * int(numbers[line_count][number_count]))\n",
    "            \n",
    "            if number_count != line_count:\n",
    "                g.add_edge(f\"{line_count - 1}_{number_count}\", \n",
    "                           f\"{line_count}_{number_count}\", \n",
    "                           weight = (-1) * int(numbers[line_count][number_count]))\n",
    "                \n",
    "        if line_count == len(numbers) - 1:\n",
    "            for k in range(line_count):\n",
    "                g.add_edge(f\"{line_count}_{number_count}\", \"final_node\", weight=0)\n",
    "        \n",
    "        number_count += 1\n",
    "        \n",
    "    line_count += 1"
   ]
  },
  {
   "cell_type": "code",
   "execution_count": 39,
   "metadata": {
    "ExecuteTime": {
     "end_time": "2021-09-17T13:27:51.738773Z",
     "start_time": "2021-09-17T13:27:51.678473Z"
    }
   },
   "outputs": [
    {
     "name": "stdout",
     "output_type": "stream",
     "text": [
      "Maximum sum: 7273\n"
     ]
    }
   ],
   "source": [
    "# Add top node value and shortest path from top to bottum (negated values)\n",
    "max_sum = 59 + (-1) * nx.shortest_path_length(g, \n",
    "                                              source = \"0_0\", \n",
    "                                              target = \"final_node\", \n",
    "                                              weight = \"weight\", \n",
    "                                              method = \"bellman-ford\")\n",
    "\n",
    "print(f\"Maximum sum: {max_sum}\")"
   ]
  },
  {
   "cell_type": "code",
   "execution_count": null,
   "metadata": {},
   "outputs": [],
   "source": []
  }
 ],
 "metadata": {
  "kernelspec": {
   "display_name": "Python 3",
   "language": "python",
   "name": "python3"
  },
  "language_info": {
   "codemirror_mode": {
    "name": "ipython",
    "version": 3
   },
   "file_extension": ".py",
   "mimetype": "text/x-python",
   "name": "python",
   "nbconvert_exporter": "python",
   "pygments_lexer": "ipython3",
   "version": "3.6.5"
  },
  "toc": {
   "base_numbering": 1,
   "nav_menu": {},
   "number_sections": true,
   "sideBar": true,
   "skip_h1_title": false,
   "title_cell": "Table of Contents",
   "title_sidebar": "Contents",
   "toc_cell": false,
   "toc_position": {},
   "toc_section_display": true,
   "toc_window_display": true
  }
 },
 "nbformat": 4,
 "nbformat_minor": 2
}
